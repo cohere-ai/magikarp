{
 "cells": [
  {
   "cell_type": "markdown",
   "metadata": {},
   "source": [
    "# Find tokens in training data\n",
    "\n",
    "This script finds the origin of tokens in training data. It is set up for the StarCoder2 model"
   ]
  },
  {
   "cell_type": "code",
   "execution_count": 1,
   "metadata": {},
   "outputs": [],
   "source": [
    "import datasets\n",
    "from ipywidgets import interact"
   ]
  },
  {
   "cell_type": "code",
   "execution_count": 2,
   "metadata": {},
   "outputs": [],
   "source": [
    "ds = datasets.load_dataset(\"bigcode/the-stack-march-sample-special-tokens-stripped\")"
   ]
  },
  {
   "cell_type": "code",
   "execution_count": 3,
   "metadata": {},
   "outputs": [],
   "source": [
    "\n",
    "phrases = ['ittrLoremipum','lcsStatusWlan','ucMZQg','mJNUZLIEMNV','GQGantt','BjKPZFq','INCEXPRS','ELABSCOPES',' cKVisitor','tableOBJECT',' simpleIndexQueryParserTests', 'trimBalanco', 'awsAwsjson', 'Baseldytsch', 'Ostschwizertütsch',' BibleDownload', 'ProrrateoImpor','PoliticaProducto']\n",
    "finds = {p: [] for p in phrases}\n",
    "for r in ds['train']:\n",
    "    for p in phrases:\n",
    "        if p in r['content']:\n",
    "            finds[p].append(r)\n"
   ]
  },
  {
   "cell_type": "code",
   "execution_count": 4,
   "metadata": {},
   "outputs": [
    {
     "name": "stdout",
     "output_type": "stream",
     "text": [
      "Phrase 'Baseldytsch'                            found in 1/746856 samples\t  hash 130ed4\t  8826 occurrences\n",
      "Phrase 'Ostschwizertütsch'                      found in 1/746856 samples\t  hash 130ed4\t  2864 occurrences\n",
      "Phrase 'GQGantt'                                found in 1/746856 samples\t  hash 13874b\t  1101 occurrences\n",
      "Phrase 'PoliticaProducto'                       found in 1/746856 samples\t  hash 20bbf3\t  1048 occurrences\n",
      "Phrase 'INCEXPRS'                               found in 1/746856 samples\t  hash 342c42\t  1024 occurrences\n",
      "Phrase 'ELABSCOPES'                             found in 1/746856 samples\t  hash 342c42\t  1640 occurrences\n",
      "Phrase ' cKVisitor'                             found in 1/746856 samples\t  hash 3781c4\t  884 occurrences\n",
      "Phrase ' BibleDownload'                         found in 1/746856 samples\t  hash 37e3f4\t  1318 occurrences\n",
      "Phrase 'ittrLoremipum'                          found in 1/746856 samples\t  hash 48a2db\t  965 occurrences\n",
      "Phrase 'ucMZQg'                                 found in 1/746856 samples\t  hash 539e03\t  1110 occurrences\n",
      "Phrase 'lcsStatusWlan'                          found in 1/746856 samples\t  hash 64fb85\t  1463 occurrences\n",
      "Phrase 'trimBalanco'                            found in 1/746856 samples\t  hash 6b8622\t  1634 occurrences\n",
      "Phrase 'mJNUZLIEMNV'                            found in 1/746856 samples\t  hash 6e883d\t  1000 occurrences\n",
      "Phrase 'BjKPZFq'                                found in 1/746856 samples\t  hash 6e883d\t  1000 occurrences\n",
      "Phrase 'ProrrateoImpor'                         found in 1/746856 samples\t  hash 731e76\t  1477 occurrences\n",
      "Phrase 'tableOBJECT'                            found in 1/746856 samples\t  hash 77040a\t  1099 occurrences\n",
      "Phrase ' simpleIndexQueryParserTests'           found in 2/746856 samples\t  hash bffa91\t  7395 occurrences\n",
      "Phrase 'awsAwsjson'                             found in 17/746856 samples\t  hash abbdde\t  1656 occurrences\n"
     ]
    }
   ],
   "source": [
    "hashes = {p: hex(abs(sum(hash(s['content']) for s in finds[p])))[2:8] for p in phrases}\n",
    "phrases = sorted(phrases, key=lambda p: (len(finds[p]),hashes[p]))\n",
    "# group phrases derived from the same docs\n",
    "for p in phrases:\n",
    "    count = sum(s['content'].count(p) for s in finds[p])\n",
    "    print(f\"Phrase {repr(p):<40} found in {len(finds[p])}/{len(ds['train'])} samples\\t  hash {hashes[p]}\\t  {count} occurrences\")\n"
   ]
  },
  {
   "cell_type": "code",
   "execution_count": 5,
   "metadata": {},
   "outputs": [
    {
     "data": {
      "application/vnd.jupyter.widget-view+json": {
       "model_id": "17661ac6da8c458fa74975f88e194493",
       "version_major": 2,
       "version_minor": 0
      },
      "text/plain": [
       "interactive(children=(Dropdown(description='phrase', options=('Baseldytsch', 'Ostschwizertütsch', 'GQGantt', '…"
      ]
     },
     "metadata": {},
     "output_type": "display_data"
    }
   ],
   "source": [
    "@interact(i=(1,11), phrase=phrases)\n",
    "def show_samples(phrase, i=1):\n",
    "    if i > len(finds[phrase]):\n",
    "        print(\"No more samples\")\n",
    "        return\n",
    "    content = finds[phrase][i-1]['content']\n",
    "    lines = content.count('\\n') + 1\n",
    "    print(f\"Showing sample #{i}/{len(finds[phrase])} for {phrase}, which appears {content.count(phrase)} times in {lines} lines\\n-----------------------\\n{content}\")\n"
   ]
  },
  {
   "cell_type": "code",
   "execution_count": null,
   "metadata": {},
   "outputs": [],
   "source": []
  }
 ],
 "metadata": {
  "kernelspec": {
   "display_name": "magikarp-ODZH3vJA-py3.9",
   "language": "python",
   "name": "python3"
  },
  "language_info": {
   "codemirror_mode": {
    "name": "ipython",
    "version": 3
   },
   "file_extension": ".py",
   "mimetype": "text/x-python",
   "name": "python",
   "nbconvert_exporter": "python",
   "pygments_lexer": "ipython3",
   "version": "3.9.2"
  }
 },
 "nbformat": 4,
 "nbformat_minor": 2
}
